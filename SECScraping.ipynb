{
  "nbformat": 4,
  "nbformat_minor": 0,
  "metadata": {
    "colab": {
      "provenance": [],
      "collapsed_sections": [
        "99y9QnJveipi",
        "vI3BEAaYf08W",
        "Y2XVUYVue_aM"
      ],
      "mount_file_id": "1wWWtTJoNx1mLRFxYPPwUCVXGiFCUShgW",
      "authorship_tag": "ABX9TyO0xMMcS6Vi1xBbGAU9WaPC",
      "include_colab_link": true
    },
    "kernelspec": {
      "name": "python3",
      "display_name": "Python 3"
    },
    "language_info": {
      "name": "python"
    }
  },
  "cells": [
    {
      "cell_type": "markdown",
      "metadata": {
        "id": "view-in-github",
        "colab_type": "text"
      },
      "source": [
        "<a href=\"https://colab.research.google.com/github/patshandofdoom/SECFindings/blob/main/SECScraping.ipynb\" target=\"_parent\"><img src=\"https://colab.research.google.com/assets/colab-badge.svg\" alt=\"Open In Colab\"/></a>"
      ]
    },
    {
      "cell_type": "markdown",
      "source": [
        "Reference Data\n",
        "\n",
        "[This is an edgar parser](https://github.com/rsljr/edgarParser). It can pull info from forms to show you what was written within\n",
        "\n",
        "\n"
      ],
      "metadata": {
        "id": "nhniH0zMToRz"
      }
    },
    {
      "cell_type": "markdown",
      "source": [
        "# Establish environment"
      ],
      "metadata": {
        "id": "p8peHtWBPk-c"
      }
    },
    {
      "cell_type": "code",
      "source": [
        "#https://stackoverflow.com/questions/69025255/how-to-web-scraping-sec-edgar-10-k-dynamic-data\n",
        "!pip --quiet install fake-useragent reticker lxml\n",
        "from bs4 import BeautifulSoup\n",
        "import requests\n",
        "import sys\n",
        "from fake_useragent import UserAgent\n",
        "import xml.etree.ElementTree as ET\n",
        "import re\n",
        "\n"
      ],
      "metadata": {
        "id": "M9yUcPU1BpqV",
        "colab": {
          "base_uri": "https://localhost:8080/"
        },
        "outputId": "7dc28629-2a1c-4a76-e407-a5a13a5e6921"
      },
      "execution_count": 1,
      "outputs": [
        {
          "output_type": "stream",
          "name": "stdout",
          "text": [
            "\u001b[?25l     \u001b[90m━━━━━━━━━━━━━━━━━━━━━━━━━━━━━━━━━━━━━━━━\u001b[0m \u001b[32m0.0/50.5 kB\u001b[0m \u001b[31m?\u001b[0m eta \u001b[36m-:--:--\u001b[0m\r\u001b[2K     \u001b[90m━━━━━━━━━━━━━━━━━━━━━━━━━━━━━━━━━━━━━━━━\u001b[0m \u001b[32m50.5/50.5 kB\u001b[0m \u001b[31m1.8 MB/s\u001b[0m eta \u001b[36m0:00:00\u001b[0m\n",
            "\u001b[?25h"
          ]
        }
      ]
    },
    {
      "cell_type": "markdown",
      "source": [
        "# Find New opportunities via the Benzinga live feed page\n"
      ],
      "metadata": {
        "id": "1D2AB6BoLiuW"
      }
    },
    {
      "cell_type": "markdown",
      "source": [
        "Open Benzinga web page, copy table and tuen into table\n",
        "\n",
        "Need to adjust date in URL in order to narrow search.\n",
        "\n",
        "https://www.benzinga.com/calendars/stock-splits?date_from=2023-04-27&date_sort=ex&date_to=2023-06-30\n",
        "\n",
        "Need to store items that have already been sent using the \"Ticker\" and \"Date Announced\" in a seperate file. Any new item"
      ],
      "metadata": {
        "id": "v_dSfJN3LrWm"
      }
    },
    {
      "cell_type": "code",
      "source": [
        "##########################################################################################\n",
        "#if day and month have <2 characters, add a 0\n",
        "def adddigit(characters):\n",
        "  if (len(characters) < 2):\n",
        "    return( \"0\"+characters)\n",
        "  else:\n",
        "    return(characters)\n",
        "\n",
        "#all required packages\n",
        "from datetime import date\n",
        "from dateutil.relativedelta import relativedelta\n",
        "from bs4 import BeautifulSoup\n",
        "import requests\n",
        "import re\n",
        "#reticker makes it easier to regex tickers from a string\n",
        "import reticker\n",
        "extractor = reticker.TickerExtractor()\n",
        "#type(extractor.pattern)\n",
        "\n",
        "\n",
        "#get todays date\n",
        "today = date.today()\n",
        "startyear = str(today.year)\n",
        "startmonth = adddigit(str(today.month))\n",
        "startday = adddigit(str(today.day))\n",
        "\n",
        "#get date 2 months out\n",
        "enddate = date.today() + relativedelta(months=+2)\n",
        "endyear = str(enddate.year)\n",
        "endmonth = adddigit(str(enddate.month))\n",
        "endday = adddigit(str(enddate.day))\n",
        "\n",
        "\n",
        "base_url = f\"https://www.benzinga.com/calendars/stock-splits?date_from={startyear}-{startmonth}-{startday}&date_sort=ex&date_to={endyear}-{endmonth}-{endday}\"\n",
        "theseheaders = {\"User-agent\":\"Mozilla/5.0 (X11; Linux x86_64) AppleWebKit/537.36 (KHTML, like Gecko) Chrome/77.0.3865.120 Safari/537.36\"}\n",
        "print(base_url)\n",
        "benzingaresponse = requests.get(base_url,headers=theseheaders)\n",
        "\n",
        "benzingasoup = BeautifulSoup(benzingaresponse.text)\n",
        "\n",
        "###############################################################################\n",
        "#this segment checks live table on the benzinga website\n",
        "\n",
        "\n",
        "###############################################################################\n",
        "#this segment checks the live feed on the benzinga website\n",
        "#find the div where updates are located\n",
        "mydivs = benzingasoup.findAll('div',class_=\"mb-4\")\n",
        "#pull out all of the\n",
        "allupdates = mydivs[0].findAll('a')\n",
        "\n",
        "for updates in allupdates:\n",
        "  #find all the spans in 'a' and make them into an array\n",
        "  updatetitlespans = updates.findAll('span')\n",
        "\n",
        "  #Sometimes the 'a' segments will have 3 spans, others will have more.\n",
        "  #If it has 3 spans, we can grab the info from span 3 for the\n",
        "  if(len(updatetitlespans)>3):\n",
        "    stockticker = re.findall(\"\\:(.*?)\\)\",updatetitlespans[2].text)\n",
        "    instancetext = updatetitlespans[2].text\n",
        "  #Otherwise, we grab the story text from span 2 and see if span 3 has any info about the ticker\n",
        "  else:\n",
        "    stockticker = re.findall(\"\\:(.*?)\\)\",updatetitlespans[2].text)\n",
        "    instancetext = updatetitlespans[1].text\n",
        "  #If we cant find the ticker, try using extractor\n",
        "  if len(stockticker) == 0:\n",
        "    stockticker = extractor.extract(updatetitlespans[2].text)\n",
        "  #If it still cant be found, make it N/A\n",
        "  if len(stockticker) == 0:\n",
        "    stockticker = \"N/A\"\n",
        "  #finally, remove all space caharcters from the ticker\n",
        "  else:\n",
        "    stockticker = stockticker[0].replace(u'\\xa0', '')\n",
        "  #The split title will be in the second span\n",
        "  instancetitle = updatetitlespans[1].text\n",
        "\n",
        "  finalarray = [stockticker, instancetitle,instancetext]\n",
        "  print(finalarray)\n",
        "\n",
        "#next it need to keep a database of already sent items, then send the items to the discord bot\n",
        "#from there, I wont have to look and refresh\n",
        "#could possibly use ColabCTL to cron this script"
      ],
      "metadata": {
        "colab": {
          "base_uri": "https://localhost:8080/"
        },
        "id": "ziWYQlHpL2uA",
        "outputId": "fd5ac577-b671-4039-ba73-df5cf939d801"
      },
      "execution_count": 2,
      "outputs": [
        {
          "output_type": "stream",
          "name": "stdout",
          "text": [
            "https://www.benzinga.com/calendars/stock-splits?date_from=2023-06-29&date_sort=ex&date_to=2023-08-29\n",
            "['ANY', 'Sphere 3D Announces 1-For-7 Share Consolidation; Will Begin Trading On A Post-Consolidation Basis On June 29, 2023', 'Sphere 3D Corp.\\xa0(NASDAQ:ANY)\\xa0(\"Sphere 3D\" or the \"Company\"), dedicated to becoming the leading carbon-neutral Bitcoin mining company operating at an industrial scale, today announced that it']\n",
            "['ALLR', 'Allarity Therapeutics Announces 1-For-40 Reverse Stock Split Of Common Stock; Will Begin Trading On A Post-Split Adjusted Basis On June 29, 2023', 'Allarity Therapeutics, Inc. (NASDAQ:ALLR) (\"Allarity\" or the \"Company\"), a clinical-stage pharmaceutical company developing novel oncology therapeutics together with drug-specific']\n",
            "['ALLR', 'Reported June 27, Allarity Therapeutics Announces Clarification Of Effective Date For Reverse Stock Split Will Be Announced In Future Press Release', '\\xa0Allarity Therapeutics, Inc. (NASDAQ:ALLR) (\"Allarity\" or the \"Company\"), a clinical-stage pharmaceutical company developing novel oncology therapeutics together with drug-specific']\n",
            "['N/A', 'Marpai Announces 1-For-4 Reverse Stock Split, Effective June 29', 'Marpai Announces 1-For-4 Reverse Stock Split, Effective June 29']\n",
            "['N/A', 'Owlet, Inc. Announces 1-for-14 Reverse Stock Split', 'Owlet, Inc. Announces 1-for-14 Reverse Stock Split']\n",
            "['N/A', 'Skillz Plans 1-For-20 Reverse Stock Split, Effective June 23, 2023', 'The reverse stock split, which was authorized by Skillz stockholders at the Annual Meeting of Stockholders on June 20, 2023, is intended to return Skillz to compliance with the New York Stock Exchange continued listing']\n",
            "['BDRX', 'Biodexa Pharmaceuticals Announces 1 ADR For 400 Ordinary Share Ratio Change Effective July 5, 2023', '22 June 2023Biodexa Pharmaceuticals PLC(\"Biodexa\" or the \"Company\")ADR Ratio ChangeBiodexa Pharmaceuticals PLC (NASDAQ:BDRX), a clinical-stage biopharmaceutical company developing a pipeline of products aimed at primary']\n",
            "['SHPW', 'Shapeways 1-For-8 Reverse Stock Split Becomes Effective At 4:01 p.m. Eastern Time On June 22, 2023', 'Common stock expected to begin trading on a split-adjusted basis on June 23, 2023Shapeways Holdings, Inc. (NYSE:SHPW) (\"Shapeways\" or the \"Company\"), a leader in the large and fast-growing digital manufacturing industry,']\n",
            "['DOMA', 'Doma To Complete 1-For-25 Reverse Stock Split', 'Doma Holdings, Inc. (NYSE:DOMA) (\"Doma\" or the \"Company\") today announced that its Board of Directors has unanimously approved a 1-for-25 reverse stock split of the Company\\'s common stock, par']\n",
            "['MEDS', \"TRxADE Health, Inc.'s Board Of Directors Approves 1-For-15 Reverse Stock Split\", 'TRxADE Health, Inc. (NASDAQ:MEDS) (the \"Company\"), today announced that its board of directors has approved a 1-for-15 reverse stock split of its common stock. The reverse stock split will take effect at 11:59']\n"
          ]
        }
      ]
    },
    {
      "cell_type": "markdown",
      "source": [
        "# Finding the files that we need to search on SEC RSS Feed"
      ],
      "metadata": {
        "id": "99y9QnJveipi"
      }
    },
    {
      "cell_type": "code",
      "source": [
        "##########################################################################################\n",
        "def getformlinkfromfilinglink(filinglink):\n",
        "  headers = {\"User-agent\":\"Mozilla/5.0 (X11; Linux x86_64) AppleWebKit/537.36 (KHTML, like Gecko) Chrome/77.0.3865.120 Safari/537.36\"}\n",
        "\n",
        "  #find the filing URL in the webpage\n",
        "  edgar_resp = requests.get(filinglink,headers=headers)\n",
        "  filingsoup = BeautifulSoup(edgar_resp.text)\n",
        "  #First, get the table\n",
        "  tableentries = filingsoup.findAll('table',class_='tableFile')\n",
        "\n",
        "  #search through the rows for all data\n",
        "  for eachrow in tableentries[0].findAll('tr'):\n",
        "    celldata = eachrow.findAll('td')\n",
        "    #As long as this row has tr labels and the type is an 8-k form, get the link to the 8-k\n",
        "    if len(celldata)>0:\n",
        "      if celldata[3].text=='8-K':\n",
        "        for link in celldata[2].findAll('a',href=True):\n",
        "          link= link['href'].split(\"ix?doc=\")\n",
        "          linktoform = \"https://sec.gov\"+link[1]\n",
        "          return (linktoform)\n",
        "\n",
        "\n",
        "#establish environment\n",
        "import time\n",
        "#get the url and establish headers\n",
        "thisursl = \"https://www.sec.gov/cgi-bin/browse-edgar?action=getcurrent&CIK=&type=8&company=&dateb=&owner=include&start=0&count=40&output=atom\"\n",
        "theseheaders = {\"User-agent\":\"Mozilla/5.0 (X11; Linux x86_64) AppleWebKit/537.36 (KHTML, like Gecko) Chrome/77.0.3865.120 Safari/537.36\"}\n",
        "edgar_resp = requests.get(thisursl,headers=theseheaders)\n",
        "thissoup = edgar_resp.text\n",
        "#important to have a list of filings\n",
        "formlist = []\n",
        "root = ET.fromstring(thissoup)\n",
        "#for all child elements check if it's an entry\n",
        "for child in root:\n",
        "  if child.tag ==\"{http://www.w3.org/2005/Atom}entry\":\n",
        "    #Then grab the title and href from each entry.\n",
        "    for nestedchild in child:\n",
        "      if nestedchild.tag == \"{http://www.w3.org/2005/Atom}title\":\n",
        "        fulltitle = nestedchild.text\n",
        "        formtype = fulltitle.split(\" - \")\n",
        "        formtype = formtype[0]\n",
        "      if nestedchild.tag == \"{http://www.w3.org/2005/Atom}link\":\n",
        "        formlink = nestedchild.attrib['href']\n",
        "    childdict = {'formtype':formtype,'fulltitle':fulltitle, 'link':formlink}\n",
        "    formlist.append(childdict)\n",
        "print(formlist)\n",
        "\n",
        "#need block here to open the filing page and get the right link from the table\n",
        "for entry in formlist:\n",
        "  if(entry['formtype']=='8-K'):\n",
        "    print(entry['link'])\n",
        "    formlink = getformlinkfromfilinglink(entry['link'])\n",
        "    print(formlink)\n",
        "    headers = {\"User-agent\":\"Mozilla/5.0 (X11; Linux x86_64) AppleWebKit/537.36 (KHTML, like Gecko) Chrome/77.0.3865.120 Safari/537.36\"}\n",
        "\n",
        "    #find the filing URL in the webpage\n",
        "    edgar_resp = requests.get(formlink,headers=headers)\n",
        "\n",
        "    #Access the Filing\n",
        "    formsoup = edgar_resp.text\n",
        "    formsoup = formsoup.lower()\n",
        "\n",
        "    #reverse count - count the number of times Reverse is in the text\n",
        "    print(len(re.findall(r'reverse',formsoup,re.MULTILINE)))\n",
        "\n",
        "    #merger count\n",
        "    print(len(re.findall(r'merger',formsoup,re.MULTILINE)))\n",
        "    time.sleep(1)"
      ],
      "metadata": {
        "id": "Nol-57z6eg4V"
      },
      "execution_count": null,
      "outputs": []
    },
    {
      "cell_type": "markdown",
      "source": [
        "this section attempts to grab the form HTML from the filing page"
      ],
      "metadata": {
        "id": "A3ypX0SBxabq"
      }
    },
    {
      "cell_type": "code",
      "source": [
        "headers = {\"User-agent\":\"Mozilla/5.0 (X11; Linux x86_64) AppleWebKit/537.36 (KHTML, like Gecko) Chrome/77.0.3865.120 Safari/537.36\"}\n",
        "\n",
        "#find the filing URL in the webpage\n",
        "edgar_resp = requests.get('https://www.sec.gov/Archives/edgar/data/85535/000155837023010941/0001558370-23-010941-index.htm',headers=headers)\n",
        "filingsoup = BeautifulSoup(edgar_resp.text)\n",
        "\n",
        "tableentries = filingsoup.findAll('table',class_='tableFile')\n",
        "\n",
        "#First, get the table\n",
        "for eachrow in tableentries[0].findAll('tr'):\n",
        "  celldata = eachrow.findAll('td')\n",
        "  #As long as this row has tr signifiers and the type is an 8-k form, get the link to the 8-k\n",
        "  if len(celldata)>0:\n",
        "    if celldata[3].text=='8-K':\n",
        "      for link in celldata[2].findAll('a',href=True):\n",
        "        linktoform = \"https://sec.gov\"+link['href']\n",
        "        print(linktoform)\n",
        "\n"
      ],
      "metadata": {
        "colab": {
          "base_uri": "https://localhost:8080/"
        },
        "id": "IM95l5anxZxq",
        "outputId": "f777cbe7-d973-4f53-f31a-edb6a5e79acd"
      },
      "execution_count": null,
      "outputs": [
        {
          "output_type": "stream",
          "name": "stdout",
          "text": [
            "sec.gov/ix?doc=/Archives/edgar/data/85535/000155837023010941/rgld-20230608x8k.htm\n"
          ]
        }
      ]
    },
    {
      "cell_type": "markdown",
      "source": [
        "This code block will grab data from a filing URL and parse it for mentions of reverse or merger. Then count how many times each are mentioned. This will allow us to start parsing which filings we want to look at."
      ],
      "metadata": {
        "id": "mMHoGMFWuWk6"
      }
    },
    {
      "cell_type": "code",
      "source": [
        "#ua = UserAgent()\n",
        "#headers = ua.random\n",
        "headers = {\"User-agent\":\"Mozilla/5.0 (X11; Linux x86_64) AppleWebKit/537.36 (KHTML, like Gecko) Chrome/77.0.3865.120 Safari/537.36\"}\n",
        "\n",
        "# Access page\n",
        "cik = '200406'\n",
        "type = '10-K'\n",
        "dateb = '20210704'\n",
        "\n",
        "# Obtain HTML for search page\n",
        "#base_url = f\"https://www.sec.gov/cgi-bin/browse-edgar?action=getcompany&CIK={cik}&type={type}&dateb={dateb}\"\n",
        "base_url = 'ix?doc=/Archives/edgar/data/101984/000010198423000034/ueic-20230605.htm'\n",
        "\n",
        "#have to split off the ix?doc bullcrap, get righ to the HTM link\n",
        "link= base_url.split(\"ix?doc=\")\n",
        "base_url = 'https://www.sec.gov'+link[1]\n",
        "edgar_resp = requests.get(base_url,headers=headers)\n",
        "\n",
        "thissoup = edgar_resp.text\n",
        "thissoup = thissoup.lower()\n",
        "\n",
        "#reverse count - count the number of times Reverse is in the text\n",
        "print(len(re.findall(r'reverse',thissoup,re.MULTILINE)))\n",
        "\n",
        "#merger count\n",
        "print(len(re.findall(r'universal',thissoup,re.MULTILINE)))\n"
      ],
      "metadata": {
        "id": "XsmOZnnLYBPO",
        "colab": {
          "base_uri": "https://localhost:8080/"
        },
        "outputId": "db289439-9463-4a99-8a8d-9bfd2489f7af"
      },
      "execution_count": null,
      "outputs": [
        {
          "output_type": "stream",
          "name": "stdout",
          "text": [
            "['', '/Archives/edgar/data/101984/000010198423000034/ueic-20230605.htm']\n",
            "0\n",
            "4\n"
          ]
        }
      ]
    },
    {
      "cell_type": "markdown",
      "source": [
        "# Access Database\n"
      ],
      "metadata": {
        "id": "k4JYHSx7JGcC"
      }
    },
    {
      "cell_type": "markdown",
      "source": [
        "Need to figure out python routed database controls for planetscale database\n"
      ],
      "metadata": {
        "id": "W_i6tQC_JLUm"
      }
    },
    {
      "cell_type": "code",
      "source": [
        "!pip install --quiet python-dotenv mysqlclient mysql-connector-python\n"
      ],
      "metadata": {
        "id": "E9c5ODDIKVLQ",
        "colab": {
          "base_uri": "https://localhost:8080/"
        },
        "outputId": "de6e6734-9a61-4799-bf03-8cb17c411887"
      },
      "execution_count": 3,
      "outputs": [
        {
          "output_type": "stream",
          "name": "stdout",
          "text": [
            "\u001b[?25l     \u001b[90m━━━━━━━━━━━━━━━━━━━━━━━━━━━━━━━━━━━━━━━━\u001b[0m \u001b[32m0.0/89.5 kB\u001b[0m \u001b[31m?\u001b[0m eta \u001b[36m-:--:--\u001b[0m\r\u001b[2K     \u001b[91m━━━━━━━━━━━━━━━━━━━━━━━━━━━━━━━━━━━━\u001b[0m\u001b[91m╸\u001b[0m\u001b[90m━━━\u001b[0m \u001b[32m81.9/89.5 kB\u001b[0m \u001b[31m4.5 MB/s\u001b[0m eta \u001b[36m0:00:01\u001b[0m\r\u001b[2K     \u001b[90m━━━━━━━━━━━━━━━━━━━━━━━━━━━━━━━━━━━━━━━━\u001b[0m \u001b[32m89.5/89.5 kB\u001b[0m \u001b[31m2.2 MB/s\u001b[0m eta \u001b[36m0:00:00\u001b[0m\n",
            "\u001b[?25h  Installing build dependencies ... \u001b[?25l\u001b[?25hdone\n",
            "  Getting requirements to build wheel ... \u001b[?25l\u001b[?25hdone\n",
            "  Installing backend dependencies ... \u001b[?25l\u001b[?25hdone\n",
            "  Preparing metadata (pyproject.toml) ... \u001b[?25l\u001b[?25hdone\n",
            "\u001b[2K     \u001b[90m━━━━━━━━━━━━━━━━━━━━━━━━━━━━━━━━━━━━━━━━\u001b[0m \u001b[32m27.4/27.4 MB\u001b[0m \u001b[31m52.5 MB/s\u001b[0m eta \u001b[36m0:00:00\u001b[0m\n",
            "\u001b[?25h  Building wheel for mysqlclient (pyproject.toml) ... \u001b[?25l\u001b[?25hdone\n"
          ]
        }
      ]
    },
    {
      "cell_type": "code",
      "source": [
        "#https://app.planetscale.com/prichardson0874/stock_live_updates\n",
        "#https://planetscale.com/docs/tutorials/planetscale-quick-start-guide\n",
        "#https://pynative.com/python-mysql-database-connection/\n",
        "\n",
        "\n",
        "from dotenv import load_dotenv\n",
        "import os\n",
        "import MySQLdb\n",
        "import mysql.connector\n",
        "from mysql.connector import Error\n",
        "\n",
        "\n",
        "load_dotenv('./.env')\n",
        "print(os.getenv(HOST))\n",
        "\n",
        "connection = mysql.connector.connect(\n",
        "  host= os.getenv(HOST),\n",
        "  user = os.getenv(USERNAME),\n",
        "  passwd= os.getenv(PASSWORD),\n",
        "  db = os.getenv(DATABASE),\n",
        "  autocommit = True,\n",
        ")\n",
        "try:\n",
        "  if connection.is_connected():\n",
        "      db_Info = connection.get_server_info()\n",
        "      print(\"Connected to MySQL Server version \", db_Info)\n",
        "      cursor = connection.cursor()\n",
        "      cursor.execute(\"select database();\")\n",
        "      record = cursor.fetchone()\n",
        "      print(\"You're connected to database: \", record)\n",
        "\n",
        "      ##this section is where the query code will go\n",
        "      mySql_Create_Table_Query = \"\"\"TABLE benzingaliveupdates(\n",
        "                                  id_number int AUTO_INCREMENT,\n",
        "                                  ticker varchar(8),\n",
        "                                  title text NOT NULL,\n",
        "                                  text text NOT NULL,\n",
        "                                  split_amount int,\n",
        "                                  date date,\n",
        "                                  PRIMARY KEY(id_number))\"\"\"\n",
        "      #\"\"CREATE TABLE Laptop (Id int(11) NOT NULL, Name varchar(250) NOT NULL, Price float NOT NULL, Purchase_date Date NOT NULL, PRIMARY KEY (Id)) \"\"\n",
        "      cursor = connection.cursor()\n",
        "      result = cursor.execute(mySql_Create_Table_Query)\n",
        "\n",
        "except Error as e:\n",
        "    print(\"Error while connecting to MySQL\", e)\n",
        "finally:\n",
        "    if connection.is_connected():\n",
        "        cursor.close()\n",
        "        connection.close()\n",
        "        print(\"MySQL connection is closed\")"
      ],
      "metadata": {
        "id": "ywjJ_DnOJuxp",
        "colab": {
          "base_uri": "https://localhost:8080/",
          "height": 244
        },
        "outputId": "72f122fc-c724-49c4-8b89-10ef5bff596d"
      },
      "execution_count": 4,
      "outputs": [
        {
          "output_type": "error",
          "ename": "NameError",
          "evalue": "ignored",
          "traceback": [
            "\u001b[0;31m---------------------------------------------------------------------------\u001b[0m",
            "\u001b[0;31mNameError\u001b[0m                                 Traceback (most recent call last)",
            "\u001b[0;32m<ipython-input-4-08f35e8ed14b>\u001b[0m in \u001b[0;36m<cell line: 18>\u001b[0;34m()\u001b[0m\n\u001b[1;32m     16\u001b[0m \u001b[0;34m\u001b[0m\u001b[0m\n\u001b[1;32m     17\u001b[0m \u001b[0mload_dotenv\u001b[0m\u001b[0;34m(\u001b[0m\u001b[0;34m'./.env'\u001b[0m\u001b[0;34m)\u001b[0m\u001b[0;34m\u001b[0m\u001b[0;34m\u001b[0m\u001b[0m\n\u001b[0;32m---> 18\u001b[0;31m \u001b[0mprint\u001b[0m\u001b[0;34m(\u001b[0m\u001b[0mos\u001b[0m\u001b[0;34m.\u001b[0m\u001b[0mgetenv\u001b[0m\u001b[0;34m(\u001b[0m\u001b[0mHOST\u001b[0m\u001b[0;34m)\u001b[0m\u001b[0;34m)\u001b[0m\u001b[0;34m\u001b[0m\u001b[0;34m\u001b[0m\u001b[0m\n\u001b[0m\u001b[1;32m     19\u001b[0m \u001b[0;34m\u001b[0m\u001b[0m\n\u001b[1;32m     20\u001b[0m connection = mysql.connector.connect(\n",
            "\u001b[0;31mNameError\u001b[0m: name 'HOST' is not defined"
          ]
        }
      ]
    },
    {
      "cell_type": "code",
      "source": [],
      "metadata": {
        "id": "BoRP59hTqnS0"
      },
      "execution_count": null,
      "outputs": []
    },
    {
      "cell_type": "code",
      "source": [],
      "metadata": {
        "id": "C1RrGmvSnGHq"
      },
      "execution_count": null,
      "outputs": []
    },
    {
      "cell_type": "markdown",
      "source": [
        "# Access the Sheet for URLs\n",
        "This segment will access the google sheet that I made in order to check each of the URL's for me. This should save a significant amount of time. I am still frustrated that I couldnt get this to work in google sheets natively, but I guess Python is just better in this way."
      ],
      "metadata": {
        "id": "vI3BEAaYf08W"
      }
    },
    {
      "cell_type": "markdown",
      "source": [
        "Importing data from google sheets\n",
        "https://docs.gspread.org/en/v5.7.0/\n",
        "\n",
        "The current work-around would be to use this segment first, then run the analysis segment with a sotred data table"
      ],
      "metadata": {
        "id": "nW930e7NgdK0"
      }
    },
    {
      "cell_type": "code",
      "source": [
        "#https://docs.gspread.org/en/v5.7.2/user-guide.html#getting-a-cell-value\n",
        "from google.colab import auth\n",
        "auth.authenticate_user()\n",
        "\n",
        "import gspread\n",
        "from google.auth import default\n",
        "creds, _ = default()\n",
        "\n",
        "gc = gspread.authorize(creds)\n",
        "\n",
        "#Open the stockwatch sheet\n",
        "sh = gc.open_by_key('1gL6YuJdplpqQd3H4pHWZGqK6W7YDMkWkGmg3OswNcao')\n",
        "\n",
        "#Open the Rev-split worksheet\n",
        "worksheet = sh.worksheet('Rev-Spl Find')\n",
        "\n",
        "# get_all_values gives a list of rows.\n",
        "rows = worksheet.get_all_values()\n",
        "print(rows)\n",
        "\n",
        "# Convert to a DataFrame and render.\n",
        "import pandas as pd\n",
        "pd.DataFrame.from_records(rows)"
      ],
      "metadata": {
        "id": "uRAwSjSpgfnk"
      },
      "execution_count": null,
      "outputs": []
    },
    {
      "cell_type": "markdown",
      "source": [
        "Access and Write to Database"
      ],
      "metadata": {
        "id": "p-tvdjdyI3Bo"
      }
    },
    {
      "cell_type": "markdown",
      "source": [
        "# Original Code\n",
        "\n",
        "The code below is the original version of the fetch code that I was able to retrieve results\n",
        "\n"
      ],
      "metadata": {
        "id": "Y2XVUYVue_aM"
      }
    },
    {
      "cell_type": "code",
      "source": [
        "#ua = UserAgent()\n",
        "#headers = ua.random\n",
        "headers = {\"User-agent\":\"Mozilla/5.0 (X11; Linux x86_64) AppleWebKit/537.36 (KHTML, like Gecko) Chrome/77.0.3865.120 Safari/537.36\"}\n",
        "\n",
        "# Access page\n",
        "cik = '200406'\n",
        "type = '10-K'\n",
        "dateb = '20210704'\n",
        "\n",
        "# Obtain HTML for search page\n",
        "#base_url = f\"https://www.sec.gov/cgi-bin/browse-edgar?action=getcompany&CIK={cik}&type={type}&dateb={dateb}\"\n",
        "base_url = 'https://www.sec.gov/Archives/edgar/data/2186/000165495423003704/bkti_8k.htm'\n",
        "edgar_resp = requests.get(base_url,headers=headers)\n",
        "\n",
        "print (edgar_resp)\n",
        "edgar_str = edgar_resp.text\n",
        "\n",
        "# Find the document link\n",
        "soup = BeautifulSoup(edgar_str, 'html.parser')\n",
        "print (soup)\n",
        "\n",
        "s =  soup.find('span', recursive=True, string='SALES BY SEGMENT OF BUSINESS ')\n",
        "t = s.find_next('table')\n",
        "trs = t.find_all('tr')\n",
        "for tr in trs:\n",
        "    if tr.text:\n",
        "        print(list(tr.stripped_strings))"
      ],
      "metadata": {
        "id": "LkWxDSqAAT57",
        "colab": {
          "base_uri": "https://localhost:8080/",
          "height": 319
        },
        "outputId": "a67af4dc-9f03-429e-8433-b8c5c36fd100"
      },
      "execution_count": null,
      "outputs": [
        {
          "output_type": "stream",
          "name": "stdout",
          "text": [
            "<Response [200]>\n",
            "<?xml version=\"1.0\" encoding=\"utf-8\"?><html xmlns=\"http://www.w3.org/1999/xhtml\" xmlns:bkti=\"http://bktechnologies.com/20230323\" xmlns:country=\"http://xbrl.sec.gov/country/2022\" xmlns:currency=\"http://xbrl.sec.gov/currency/2022\" xmlns:dei=\"http://xbrl.sec.gov/dei/2022\" xmlns:dtr-types=\"http://www.xbrl.org/dtr/type/2020-01-21\" xmlns:iso4217=\"http://www.xbrl.org/2003/iso4217\" xmlns:ix=\"http://www.xbrl.org/2013/inlineXBRL\" xmlns:ixt=\"http://www.xbrl.org/inlineXBRL/transformation/2015-02-26\" xmlns:ixt-sec=\"http://www.sec.gov/inlineXBRL/transformation/2015-08-31\" xmlns:link=\"http://www.xbrl.org/2003/linkbase\" xmlns:nonnum=\"http://www.xbrl.org/dtr/type/non-numeric\" xmlns:num=\"http://www.xbrl.org/dtr/type/numeric\" xmlns:ref=\"http://www.xbrl.org/2006/ref\" xmlns:srt=\"http://fasb.org/srt/2022\" xmlns:srt-types=\"http://fasb.org/srt-types/2022\" xmlns:us-gaap=\"http://fasb.org/us-gaap/2022\" xmlns:us-roles=\"http://fasb.org/us-roles/2022\" xmlns:utr=\"http://www.xbrl.org/2009/utr\" xmlns:xbrldi=\"http://xbrl.org/2006/xbrldi\" xmlns:xbrldt=\"http://xbrl.org/2005/xbrldt\" xmlns:xbrli=\"http://www.xbrl.org/2003/instance\" xmlns:xlink=\"http://www.w3.org/1999/xlink\" xmlns:xsi=\"http://www.w3.org/2001/XMLSchema-instance\"><head><title>bkti_8k.htm</title><!--Document Created by XBRLMaster--><meta content=\"text/html\" http-equiv=\"Content-Type\"/><script>bazadebezolkohpepadr=\"477184482\"</script><script defer=\"\" src=\"https://www.sec.gov/akam/13/1c7143f0\" type=\"text/javascript\"></script></head><body style=\"text-align:justify;font:10pt times new roman\"><div id=\"XBRLDIV\" style=\"display:none;text-align:justify;font:10pt times new roman;\"><ix:header><ix:hidden><ix:nonnumeric contextref=\"From2023-03-23to2023-03-23\" name=\"dei:EntityCentralIndexKey\">0000002186</ix:nonnumeric><ix:nonnumeric contextref=\"From2023-03-23to2023-03-23\" format=\"ixt:booleanfalse\" name=\"dei:AmendmentFlag\">false</ix:nonnumeric><ix:nonnumeric contextref=\"From2023-03-23to2023-03-23\" name=\"dei:CurrentFiscalYearEndDate\">--12-31</ix:nonnumeric></ix:hidden><ix:references><link:schemaref xlink:href=\"bkti-20230323.xsd\" xlink:type=\"simple\"></link:schemaref></ix:references><ix:resources><xbrli:context id=\"From2023-03-23to2023-03-23\"><xbrli:entity><xbrli:identifier scheme=\"http://www.sec.gov/CIK\">0000002186</xbrli:identifier></xbrli:entity><xbrli:period><xbrli:startdate>2023-03-23</xbrli:startdate><xbrli:enddate>2023-03-23</xbrli:enddate></xbrli:period></xbrli:context><xbrli:unit id=\"USD\"><xbrli:measure>iso4217:USD</xbrli:measure></xbrli:unit><xbrli:unit id=\"Shares\"><xbrli:measure>xbrli:shares</xbrli:measure></xbrli:unit><xbrli:unit id=\"USDPShares\"><xbrli:divide><xbrli:unitnumerator><xbrli:measure>iso4217:USD</xbrli:measure></xbrli:unitnumerator><xbrli:unitdenominator><xbrli:measure>xbrli:shares</xbrli:measure></xbrli:unitdenominator></xbrli:divide></xbrli:unit></ix:resources></ix:header></div><table style=\"font-size:1px;width:100%\"><tbody><tr><td style=\"BORDER-BOTTOM: 5px solid;\"></td></tr><tr><td style=\"BORDER-BOTTOM: 2px solid;\"></td></tr></tbody></table><p style=\"font-size:10pt;font-family:times new roman;margin:0px\"> </p><p style=\"FONT-SIZE: 10pt; FONT-FAMILY: times new roman; MARGIN: 0px 0px 0px 0in; text-align:center;\"><strong>UNITED STATES </strong></p><p style=\"FONT-SIZE: 10pt; FONT-FAMILY: times new roman; MARGIN: 0px; text-align:center;\"><strong>SECURITIES AND EXCHANGE COMMISSION </strong></p><p style=\"FONT-SIZE: 10pt; FONT-FAMILY: times new roman; MARGIN: 0px; text-align:center;\"><strong>WASHINGTON, D.C. 20549</strong> </p><p style=\"font-size:10pt;font-family:times new roman;margin:0px\"> </p><p style=\"FONT-SIZE: 10pt; FONT-FAMILY: times new roman; MARGIN: 0px 0px 0px 0in; text-align:center;\"><strong><span style=\"font-size:18pt\">FORM <ix:nonnumeric contextref=\"From2023-03-23to2023-03-23\" name=\"dei:DocumentType\">8-K</ix:nonnumeric> </span></strong></p><p style=\"font-size:10pt;font-family:times new roman;margin:0px\"> </p><p style=\"FONT-SIZE: 10pt; FONT-FAMILY: times new roman; MARGIN: 0px; text-align:center;\"><strong>CURRENT REPORT </strong></p><p style=\"FONT-SIZE: 10pt; FONT-FAMILY: times new roman; MARGIN: 0px; text-align:center;\"><strong>Pursuant to Section 13 or 15(d) of the Securities Exchange Act of 1934</strong></p><p style=\"FONT-SIZE: 10pt; FONT-FAMILY: times new roman; MARGIN: 0px; text-align:center;\"> </p><p style=\"FONT-SIZE: 10pt; FONT-FAMILY: times new roman; MARGIN: 0px; text-align:center;\">Date of Report (Date of Earliest Event Reported):  <strong><span style=\"text-decoration:underline\"><ix:nonnumeric contextref=\"From2023-03-23to2023-03-23\" format=\"ixt:datemonthdayyearen\" name=\"dei:DocumentPeriodEndDate\">March 23, 2023</ix:nonnumeric></span></strong> </p><p style=\"font-size:10pt;font-family:times new roman;margin:0px\"> </p><table cellpadding=\"0\" style=\"border-spacing:0;font-size:10pt;text-align:left;margin-left:auto;margin-right:auto;width:60%\"><tbody><tr style=\"height:15px\"><td style=\"BORDER-BOTTOM: #000000 1px solid;\"><p style=\"FONT-SIZE: 10pt; FONT-FAMILY: times new roman; MARGIN: 0px; text-align:center;\"><strong><span style=\"font-size:18pt\"><ix:nonnumeric contextref=\"From2023-03-23to2023-03-23\" name=\"dei:EntityRegistrantName\">BK Technologies Corporation</ix:nonnumeric></span></strong></p></td></tr><tr style=\"height:15px\"><td><p style=\"FONT-SIZE: 10pt; FONT-FAMILY: times new roman; MARGIN: 0px; text-align:center;\">(Exact name of registrant as specified in its charter) </p></td></tr></tbody></table><p style=\"font-size:10pt;font-family:times new roman;margin:0px\"> </p><table cellpadding=\"0\" style=\"border-spacing:0;font-size:10pt;text-align:justify;margin-left:auto;margin-right:auto;width:85%\"><tbody><tr style=\"height:15px\"><td style=\"BORDER-BOTTOM: #000000 1px solid;width:30%;vertical-align:top;\"><p style=\"FONT-SIZE: 10pt; FONT-FAMILY: times new roman; MARGIN: 0px; text-align:center;\"><strong><ix:nonnumeric contextref=\"From2023-03-23to2023-03-23\" format=\"ixt-sec:stateprovnameen\" name=\"dei:EntityIncorporationStateCountryCode\">Nevada</ix:nonnumeric></strong></p></td><td style=\"width:5%;\"><p style=\"font-size:10pt;font-family:times new roman;margin:0px\"> </p></td><td style=\"BORDER-BOTTOM: #000000 1px solid;width:30%;vertical-align:top;\"><p style=\"FONT-SIZE: 10pt; FONT-FAMILY: times new roman; MARGIN: 0px; text-align:center;\"><strong><ix:nonnumeric contextref=\"From2023-03-23to2023-03-23\" name=\"dei:EntityFileNumber\">001-32644</ix:nonnumeric></strong></p></td><td style=\"width:5%;\"><p style=\"font-size:10pt;font-family:times new roman;margin:0px\"> </p></td><td style=\"BORDER-BOTTOM: #000000 1px solid;width:30%;vertical-align:top;\"><p style=\"FONT-SIZE: 10pt; FONT-FAMILY: times new roman; MARGIN: 0px; text-align:center;\"><strong><ix:nonnumeric contextref=\"From2023-03-23to2023-03-23\" name=\"dei:EntityTaxIdentificationNumber\">83-4064262</ix:nonnumeric></strong></p></td></tr><tr style=\"height:15px\"><td style=\"vertical-align:top;\"><p style=\"FONT-SIZE: 10pt; FONT-FAMILY: times new roman; MARGIN: 0px; text-align:center;\">(State or other jurisdiction </p></td><td><p style=\"font-size:10pt;font-family:times new roman;margin:0px\"> </p></td><td style=\"vertical-align:top;\"><p style=\"FONT-SIZE: 10pt; FONT-FAMILY: times new roman; MARGIN: 0px; text-align:center;\">(Commission </p></td><td><p style=\"font-size:10pt;font-family:times new roman;margin:0px\"> </p></td><td style=\"vertical-align:top;\"><p style=\"FONT-SIZE: 10pt; FONT-FAMILY: times new roman; MARGIN: 0px; text-align:center;\">(I.R.S. Employer </p></td></tr><tr style=\"height:15px\"><td style=\"vertical-align:top;\"><p style=\"FONT-SIZE: 10pt; FONT-FAMILY: times new roman; MARGIN: 0px; text-align:center;\">of incorporation) </p></td><td><p style=\"font-size:10pt;font-family:times new roman;margin:0px\"> </p></td><td style=\"vertical-align:top;\"><p style=\"FONT-SIZE: 10pt; FONT-FAMILY: times new roman; MARGIN: 0px; text-align:center;\">File Number) </p></td><td><p style=\"font-size:10pt;font-family:times new roman;margin:0px\"> </p></td><td style=\"vertical-align:top;\"><p style=\"FONT-SIZE: 10pt; FONT-FAMILY: times new roman; MARGIN: 0px; text-align:center;\">Identification No.) </p></td></tr></tbody></table><p style=\"FONT-SIZE: 10pt; FONT-FAMILY: times new roman; MARGIN: 0px; text-align:center;\"> </p><table cellpadding=\"0\" style=\"border-spacing:0;font-size:10pt;text-align:justify;margin-left:auto;margin-right:auto;width:85%\"><tbody><tr style=\"height:15px\"><td style=\"BORDER-BOTTOM: #000000 1px solid;width:45%;vertical-align:top;\"><p style=\"FONT-SIZE: 10pt; FONT-FAMILY: times new roman; MARGIN: 0px; text-align:center;\"><strong><ix:nonnumeric contextref=\"From2023-03-23to2023-03-23\" name=\"dei:EntityAddressAddressLine1\">7100 Technology Drive</ix:nonnumeric>, <ix:nonnumeric contextref=\"From2023-03-23to2023-03-23\" name=\"dei:EntityAddressCityOrTown\">West Melbourne</ix:nonnumeric>, <ix:nonnumeric contextref=\"From2023-03-23to2023-03-23\" name=\"dei:EntityAddressStateOrProvince\">FL</ix:nonnumeric></strong></p></td><td style=\"width:10%;\"><p style=\"FONT-SIZE: 10pt; FONT-FAMILY: times new roman; MARGIN: 0px; text-align:center;\"> </p></td><td style=\"BORDER-BOTTOM: #000000 1px solid;width:45%;vertical-align:top;\"><p style=\"FONT-SIZE: 10pt; FONT-FAMILY: times new roman; MARGIN: 0px; text-align:center;\"><strong><ix:nonnumeric contextref=\"From2023-03-23to2023-03-23\" name=\"dei:EntityAddressPostalZipCode\">32904</ix:nonnumeric></strong></p></td></tr><tr style=\"height:15px\"><td style=\"vertical-align:top;\"><p style=\"FONT-SIZE: 10pt; FONT-FAMILY: times new roman; MARGIN: 0px; text-align:center;\">(Address of principal executive offices) </p></td><td><p style=\"FONT-SIZE: 10pt; FONT-FAMILY: times new roman; MARGIN: 0px; text-align:center;\"> </p></td><td style=\"vertical-align:top;\"><p style=\"FONT-SIZE: 10pt; FONT-FAMILY: times new roman; MARGIN: 0px; text-align:center;\">(Zip Code) </p></td></tr></tbody></table><p style=\"font-size:10pt;font-family:times new roman;margin:0px\">  </p><p style=\"FONT-SIZE: 10pt; FONT-FAMILY: times new roman; MARGIN: 0px; text-align:center;\">Registrant’s telephone number, including area code: <strong><span style=\"text-decoration:underline\">(<ix:nonnumeric contextref=\"From2023-03-23to2023-03-23\" name=\"dei:CityAreaCode\">321</ix:nonnumeric>) <ix:nonnumeric contextref=\"From2023-03-23to2023-03-23\" name=\"dei:LocalPhoneNumber\">984-1414</ix:nonnumeric></span></strong> </p><p style=\"font-size:10pt;font-family:times new roman;margin:0px\"> </p><p style=\"FONT-SIZE: 10pt; FONT-FAMILY: times new roman; MARGIN: 0px; text-align:center;\"><strong><span style=\"text-decoration:underline\">N/A</span></strong></p><p style=\"FONT-SIZE: 10pt; FONT-FAMILY: times new roman; MARGIN: 0px; text-align:center;\">Former name or former address, if changed since last report </p><p style=\"font-size:10pt;font-family:times new roman;margin:0px\"> </p><p style=\"font-size:10pt;font-family:times new roman;margin:0px\">Check the appropriate box below if the Form 8-K filing is intended to simultaneously satisfy the filing obligation of the registrant under any of the following provisions: </p><p style=\"font-size:10pt;font-family:times new roman;margin:0px\"> </p><table cellpadding=\"0\" style=\"border-spacing:0;text-align:left;font:10pt times new roman;width:100%\"><tbody><tr style=\"height:15px\"><td style=\"width:4%;vertical-align:top;\"><p style=\"font-size:10pt;font-family:times new roman;margin:0px\"><ix:nonnumeric contextref=\"From2023-03-23to2023-03-23\" format=\"ixt-sec:boolballotbox\" name=\"dei:WrittenCommunications\">☐</ix:nonnumeric></p></td><td style=\"vertical-align:top;\"><p style=\"font-size:10pt;font-family:times new roman;margin:0px\">Written communications pursuant to Rule 425 under the Securities Act (17 CFR 230.425)</p></td></tr><tr style=\"height:15px\"><td style=\"vertical-align:top;\"><p style=\"font-size:10pt;font-family:times new roman;margin:0px\"><ix:nonnumeric contextref=\"From2023-03-23to2023-03-23\" format=\"ixt-sec:boolballotbox\" name=\"dei:SolicitingMaterial\">☐</ix:nonnumeric></p></td><td style=\"vertical-align:top;\"><p style=\"font-size:10pt;font-family:times new roman;margin:0px\">Soliciting material pursuant to Rule 14a-12 under the Exchange Act (17 CFR 240.14a-12)</p></td></tr><tr style=\"height:15px\"><td style=\"vertical-align:top;\"><p style=\"font-size:10pt;font-family:times new roman;margin:0px\"><ix:nonnumeric contextref=\"From2023-03-23to2023-03-23\" format=\"ixt-sec:boolballotbox\" name=\"dei:PreCommencementTenderOffer\">☐</ix:nonnumeric></p></td><td style=\"vertical-align:top;\"><p style=\"font-size:10pt;font-family:times new roman;margin:0px\">Pre-commencement communications pursuant to Rule 14d-2(b) under the Exchange Act (17 CFR 240.14d-2(b))</p></td></tr><tr style=\"height:15px\"><td style=\"vertical-align:top;\"><p style=\"font-size:10pt;font-family:times new roman;margin:0px\"><ix:nonnumeric contextref=\"From2023-03-23to2023-03-23\" format=\"ixt-sec:boolballotbox\" name=\"dei:PreCommencementIssuerTenderOffer\">☐</ix:nonnumeric></p></td><td style=\"vertical-align:top;\"><p style=\"font-size:10pt;font-family:times new roman;margin:0px\">Pre-commencement communications pursuant to Rule 13e-4(c) under the Exchange Act (17 CFR 240.13e-4(c))</p></td></tr></tbody></table><p style=\"font-size:10pt;font-family:times new roman;margin:0px\">  </p><p style=\"font-size:10pt;font-family:times new roman;margin:0px\">Securities registered pursuant to Section 12(b) of the Act:</p><p style=\"font-size:10pt;font-family:times new roman;margin:0px\"> </p><table cellpadding=\"0\" style=\"border-spacing:0;font-size:10pt;width:100%\"><tbody><tr style=\"height:15px\"><td style=\"BORDER-BOTTOM: 1px solid;width:30%;vertical-align:bottom;\"><p style=\"FONT-SIZE: 10pt; FONT-FAMILY: times new roman; MARGIN: 0px 0px 0px 0.5in; text-align:center;\">Title of Each Class</p></td><td style=\"width:5%;\"><p style=\"FONT-SIZE: 10pt; FONT-FAMILY: times new roman; MARGIN: 0px; text-align:center;\"> </p></td><td style=\"BORDER-BOTTOM: 1px solid;width:30%;vertical-align:bottom;\"><p style=\"FONT-SIZE: 10pt; FONT-FAMILY: times new roman; MARGIN: 0px 0px 0px 0.5in; text-align:center;\">Trading Symbol(s)</p></td><td style=\"width:5%;\"><p style=\"FONT-SIZE: 10pt; FONT-FAMILY: times new roman; MARGIN: 0px; text-align:center;\"> </p></td><td style=\"BORDER-BOTTOM: 1px solid;width:30%;vertical-align:bottom;\"><p style=\"FONT-SIZE: 10pt; FONT-FAMILY: times new roman; MARGIN: 0px 0px 0px 0.5in; text-align:center;\">Name of Each Exchange on Which Registered</p></td></tr><tr style=\"height:15px\"><td style=\"vertical-align:bottom;\"><p style=\"FONT-SIZE: 10pt; FONT-FAMILY: times new roman; MARGIN: 0px 0px 0px 0.5in; text-align:center;\"><strong><ix:nonnumeric contextref=\"From2023-03-23to2023-03-23\" name=\"dei:Security12bTitle\">Common Stock, par value $.60 per share</ix:nonnumeric></strong></p></td><td><p style=\"FONT-SIZE: 10pt; FONT-FAMILY: times new roman; MARGIN: 0px; text-align:center;\"> </p></td><td style=\"vertical-align:bottom;\"><p style=\"FONT-SIZE: 10pt; FONT-FAMILY: times new roman; MARGIN: 0px 0px 0px 0.5in; text-align:center;\"><strong><ix:nonnumeric contextref=\"From2023-03-23to2023-03-23\" name=\"dei:TradingSymbol\">BKTI</ix:nonnumeric></strong></p></td><td><p style=\"FONT-SIZE: 10pt; FONT-FAMILY: times new roman; MARGIN: 0px; text-align:center;\"> </p></td><td style=\"vertical-align:bottom;\"><p style=\"FONT-SIZE: 10pt; FONT-FAMILY: times new roman; MARGIN: 0px 0px 0px 0.5in; text-align:center;\"><strong><ix:nonnumeric contextref=\"From2023-03-23to2023-03-23\" format=\"ixt-sec:exchnameen\" name=\"dei:SecurityExchangeName\">NYSE</ix:nonnumeric> American</strong></p></td></tr></tbody></table><p style=\"font-size:10pt;font-family:times new roman;margin:0px\"> </p><p style=\"font-size:10pt;font-family:times new roman;margin:0px\">Indicate by check mark whether the registrant is an emerging growth company as defined in Rule 405 of the Securities Act of 1933 (§ 230.405 of this chapter) or Rule 12b-2 of the Securities Exchange Act of 1934 (§ 240.12b-2 of this chapter).</p><p style=\"font-size:10pt;font-family:times new roman;margin:0px\"> </p><p style=\"font-size:10pt;font-family:times new roman;margin:0px\">Emerging growth company <ix:nonnumeric contextref=\"From2023-03-23to2023-03-23\" format=\"ixt-sec:boolballotbox\" name=\"dei:EntityEmergingGrowthCompany\">☐</ix:nonnumeric></p><p style=\"font-size:10pt;font-family:times new roman;margin:0px\"> </p><p style=\"font-size:10pt;font-family:times new roman;margin:0px\">If an emerging growth company, indicate by check mark if the registrant has elected not to use the extended transition period for complying with any new or revised financial accounting standards provided pursuant to Section 13(a) of the Exchange Act. ☐</p><p style=\"font-size:10pt;font-family:times new roman;margin:0px\"> </p><table style=\"font-size:1px;width:100%\"><tbody><tr><td style=\"BORDER-BOTTOM: 2px solid;\"></td></tr><tr><td style=\"BORDER-BOTTOM: 5px solid;\"></td></tr></tbody></table><table cellpadding=\"0\" style=\"border-spacing:0;font:10pt times new roman;width:100%\"><tbody><tr style=\"height:15px\"><td class=\"hpbhr\"> </td></tr><tr style=\"height:15px\"><td style=\"TEXT-INDENT: 0px;\"></td></tr><tr style=\"height:15px\"><td><p style=\"page-break-after: always\"></p></td></tr><tr style=\"height:15px\"><td> </td></tr></tbody></table><p style=\"font-size:10pt;font-family:times new roman;margin:0px\"> </p><p style=\"font-size:10pt;font-family:times new roman;margin:0px\"><strong>Item 3.03 <span style=\"text-decoration:underline\">Material Modification to Rights of Security Holders</span>.</strong></p><p style=\"font-size:10pt;font-family:times new roman;margin:0px\"> </p><p style=\"font-size:10pt;font-family:times new roman;margin:0px;text-indent:0.5in\">The Board of Directors of BK Technologies Corporation, a Nevada corporation (the “Company”), has approved a reverse stock split of the Company’s authorized, issued and outstanding shares of common stock, par value $0.60 per share (the “Common Stock”), at a ratio of one (1)-for-five (5) (the “Reverse Stock Split”).</p><p style=\"font-size:10pt;font-family:times new roman;margin:0px\"> </p><p style=\"font-size:10pt;font-family:times new roman;margin:0px\"><strong>Reasons for the Reverse Stock Split</strong></p><p style=\"font-size:10pt;font-family:times new roman;margin:0px\"> </p><p style=\"font-size:10pt;font-family:times new roman;margin:0px;text-indent:0.5in\">The Reverse Stock Split is being effected because the Company believes the anticipated increase in the market price of the Common Stock resulting from the Reverse Stock Split will benefit the Company and its stockholders. The Company cannot provide assurance that such increase will occur or that, if such increase does occur, that it will be sustained.</p><p style=\"font-size:10pt;font-family:times new roman;margin:0px\"> </p><p style=\"font-size:10pt;font-family:times new roman;margin:0px\"><strong>Effects of the Reverse Stock Split</strong></p><p style=\"font-size:10pt;font-family:times new roman;margin:0px\"> </p><p style=\"font-size:10pt;font-family:times new roman;margin:0px\"><em>Effective Date; Symbol; CUSIP Number</em>.</p><p style=\"font-size:10pt;font-family:times new roman;margin:0px\"> </p><p style=\"font-size:10pt;font-family:times new roman;margin:0px;text-indent:0.5in\">The Reverse Stock Split will become effective on April 21, 2023 (the “Effective Date”), at 5:00 p.m., Eastern Time. The Common Stock should begin trading on a split-adjusted basis at the commencement of trading on April 24, 2023, under the Company’s existing trading symbol, “BKTI.” The Company’s Common Stock has been assigned a new CUSIP number, 05587G 203, in connection with the Reverse Stock Split.</p><p style=\"font-size:10pt;font-family:times new roman;margin:0px\"> </p><p style=\"font-size:10pt;font-family:times new roman;margin:0px\"><em>Split Adjustment; Treatment of Fractional Shares</em>.</p><p style=\"font-size:10pt;font-family:times new roman;margin:0px\"> </p><p style=\"font-size:10pt;font-family:times new roman;margin:0px;text-indent:0.5in\">On the Effective Date, the total number of shares of Common Stock held by each stockholder of the Company will be exchanged for the number of shares of Common Stock equal to (i) the number of issued and outstanding shares of Common Stock held by each such stockholder immediately prior to the Reverse Stock Split, divided by (ii) five, with such resulting number of shares rounded up to the nearest whole share. As a result, no fractional shares will be issued in connection with the Reverse Stock Split and no cash or other consideration will be paid in connection with any fractional shares that would otherwise have resulted from the Reverse Stock Split. Also on the Effective Date, all equity awards outstanding immediately prior to the Reverse Stock Split will be adjusted to reflect the Reverse Stock Split.</p><p style=\"font-size:10pt;font-family:times new roman;margin:0px\"> </p><p style=\"font-size:10pt;font-family:times new roman;margin:0px\"><em>Certificated and Non-Certificated Shares</em>.</p><p style=\"font-size:10pt;font-family:times new roman;margin:0px\"> </p><p style=\"font-size:10pt;font-family:times new roman;margin:0px;text-indent:0.5in\">Stockholders who hold their shares in direct registration book-entry form with the Company’s transfer agent, American Stock Transfer &amp; Trust Company, LLC (“AST”), or in electronic form at brokerage firms, do not need to take any action, as the effect of the Reverse Stock Split will automatically be reflected in their accounts. Stockholders holding paper certificates will be contacted by AST, which is also acting as the exchange agent for the Reverse Stock Split, regarding the return of outstanding stock certificates to the Company.</p><p style=\"font-size:10pt;font-family:times new roman;margin:0px\"> </p><p style=\"font-size:10pt;font-family:times new roman;margin:0px\"><em>Nevada State Filing</em>.</p><p style=\"font-size:10pt;font-family:times new roman;margin:0px\"> </p><p style=\"font-size:10pt;font-family:times new roman;margin:0px;text-indent:0.5in\">The Reverse Stock Split will be effected pursuant to the Company’s filing of a Certificate of Change (the “Certificate”) with the Secretary of State of the State of Nevada. The Certificate will become effective at 5:00 p.m. on the Effective Date.</p><p style=\"font-size:10pt;font-family:times new roman;margin:0px\"> </p><p style=\"font-size:10pt;font-family:times new roman;margin:0px\"><em>No Stockholder Approval Required</em>.</p><p style=\"font-size:10pt;font-family:times new roman;margin:0px\"> </p><p style=\"font-size:10pt;font-family:times new roman;margin:0px;text-indent:0.5in\">The Reverse Stock Split was approved by the Board of Directors of the Company and given effect pursuant to and in accordance with Nevada law and, as such, no stockholder approval of the Reverse Stock Split is required.</p><p style=\"font-size:10pt;font-family:times new roman;margin:0px\"> </p><table cellpadding=\"0\" style=\"border-spacing:0;font:10pt times new roman;width:100%\"><tbody><tr style=\"height:15px\"><td class=\"hpbhr\"> </td></tr><tr style=\"height:15px\"><td style=\"BORDER-BOTTOM: black 1px solid; TEXT-INDENT: 0px;\"><p style=\"FONT-SIZE: 10pt; FONT-FAMILY: times new roman; MARGIN: 0px; text-align:center;\">2</p></td></tr><tr style=\"height:15px\"><td><p style=\"page-break-after: always\"></p></td></tr><tr style=\"height:15px\"><td> </td></tr></tbody></table><p style=\"font-size:10pt;font-family:times new roman;margin:0px\"> </p><p style=\"font-size:10pt;font-family:times new roman;margin:0px\"><em>Capitalization. </em></p><p style=\"font-size:10pt;font-family:times new roman;margin:0px\"> </p><p style=\"font-size:10pt;font-family:times new roman;margin:0px;text-indent:0.5in\">As of March 23, 2023, the Company was authorized to issue 50,000,000 shares of Common Stock, and there were 16,998,187 shares of Common Stock issued and outstanding. In addition, the Company was authorized to issue 1,000,000 shares of preferred stock, and there were no shares of preferred stock issued and outstanding. Immediately following the effectiveness of the Reverse Stock Split, the Company will be authorized to issue 10,000,000 shares of Common Stock, and there will be approximately 3.4 million shares of Common Stock issued and outstanding (subject to adjustment due to the treatment of fractional shares). There will be no shares of preferred stock issued and outstanding. The Reverse Stock Split will have no effect on the par value of the Common Stock or the par value or authorized number of the preferred stock.</p><p style=\"font-size:10pt;font-family:times new roman;margin:0px\"> </p><p style=\"font-size:10pt;font-family:times new roman;margin:0px;text-indent:0.5in\">Immediately after the Reverse Stock Split, each stockholder’s percentage ownership interest in the Company and proportional voting power will remain unchanged, except for minor changes and adjustments that will result from the treatment of fractional shares. The rights and privileges of the holders of shares of Common Stock will be unaffected by the Reverse Stock Split.</p><p style=\"font-size:10pt;font-family:times new roman;margin:0px\"> </p><p style=\"font-size:10pt;font-family:times new roman;margin:0px\"><strong>Item 5.03 <span style=\"text-decoration:underline\">Amendments to Articles of Incorporation or Bylaws; Change in Fiscal Year</span>.</strong></p><p style=\"font-size:10pt;font-family:times new roman;margin:0px\"> </p><p style=\"font-size:10pt;font-family:times new roman;margin:0px\">The information set forth in Item 3.03 is hereby incorporated by reference into this Item 5.03.</p><p style=\"font-size:10pt;font-family:times new roman;margin:0px\"> </p><p style=\"font-size:10pt;font-family:times new roman;margin:0px\"><strong>Item 8.01 <span style=\"text-decoration:underline\">Other Events</span>.</strong></p><p style=\"font-size:10pt;font-family:times new roman;margin:0px\"> </p><p style=\"font-size:10pt;font-family:times new roman;margin:0px;text-indent:0.5in\">On March 23, 2023, the Company issued a press release announcing the Reverse Stock Split. A copy of the press release is attached as Exhibit 99.1 to this Current Report on Form 8-K and is incorporated herein by reference.</p><p style=\"font-size:10pt;font-family:times new roman;margin:0px\"> </p><p style=\"font-size:10pt;font-family:times new roman;margin:0px\"><strong>Forward-Looking Statements</strong></p><p style=\"font-size:10pt;font-family:times new roman;margin:0px\"> </p><p style=\"font-size:10pt;font-family:times new roman;margin:0px;text-indent:0.5in\"><em>This Form 8-K contains certain forward-looking statements that are made pursuant to the “Safe Harbor” provisions of the Private Securities Litigation Reform Act of 1995. These forward-looking statements concern the Company’s operations, economic performance and financial condition and the anticipated effect of the Company’s Reverse Stock Split and are based largely on the Company’s beliefs and expectations. These statements involve known and unknown risks, uncertainties and other factors that may cause the actual results, performance or achievements of the Company, or industry results, to be materially different from any future results, performance or achievements expressed or implied by such forward-looking statements. Such factors and risks include, among others, the following: the Company’s ability to successfully effect the Reverse Stock Split or realize the anticipated benefits of the Reverse Stock Split; changes or advances in technology; the success of our land mobile radio product line; successful introduction of new products and technologies, including our ability to successfully develop and sell our anticipated new multiband product and other related products in the planned BKR Series; competition in the land mobile radio industry; general economic and business conditions, including federal, state and local government budget deficits and spending limitations and any impact from a prolonged shutdown of the U.S. Government; the availability, terms and deployment of capital; reliance on contract manufacturers and suppliers; risks associated with fixed-price contacts; heavy reliance on sales to agencies of the U.S. Government and our ability to comply with the requirements of contracts, laws and regulations related to such sales; allocations by government agencies among multiple approved suppliers under existing agreements; our ability to comply with U.S. tax laws and utilize deferred tax assets; our ability to attract and retain executive officers, skilled workers and key personnel; our ability to manage our growth; our ability to identify potential candidates for, and consummate, acquisition, disposition or investment transactions, and risks incumbent to being a noncontrolling interest stockholder in a corporation; impact of our capital allocation strategy; risks related to maintaining our brand and reputation; impact of government regulation; rising health care costs; our business with manufacturers located in other countries, including changes in the U.S. Government and foreign governments' trade and tariff policies; our inventory and debt levels; protection of our intellectual property rights; fluctuation in our operating results and stock price; acts of war or terrorism, natural disasters and other catastrophic events; any infringement claims; data security breaches, cyber-attacks and other factors impacting our technology systems; availability of adequate insurance coverage; maintenance of our NYSE American listing; risks related to being a holding company; and the effect on our stock price and ability to raise equity capital of future sales of shares of our common stock. Certain of these factors and risks, as well as other risks and uncertainties, are stated in more detail in the Company’s Annual Report on Form 10-K for the fiscal year ended December 31, 2022. These forward-looking statements are made as of the date of this Form 8-K, and the Company assumes no obligation to update the forward-looking statements or to update the reasons why actual results could differ from those projected in the forward-looking statements.</em></p><p style=\"font-size:10pt;font-family:times new roman;margin:0px\"> </p><table cellpadding=\"0\" style=\"border-spacing:0;font:10pt times new roman;width:100%\"><tbody><tr style=\"height:15px\"><td class=\"hpbhr\"> </td></tr><tr style=\"height:15px\"><td style=\"BORDER-BOTTOM: black 1px solid; TEXT-INDENT: 0px;\"><p style=\"FONT-SIZE: 10pt; FONT-FAMILY: times new roman; MARGIN: 0px; text-align:center;\">3</p></td></tr><tr style=\"height:15px\"><td><p style=\"page-break-after: always\"></p></td></tr><tr style=\"height:15px\"><td> </td></tr></tbody></table><p style=\"font-size:10pt;font-family:times new roman;margin:0px\"> </p><p style=\"font-size:10pt;font-family:times new roman;margin:0px\"><strong>Item 9.01</strong> <strong><span style=\"text-decoration:underline\">Financial Statements and Exhibits</span>.</strong></p><p style=\"font-size:10pt;font-family:times new roman;margin:0px\"> </p><p style=\"font-size:10pt;font-family:times new roman;margin:0px\">(d) Exhibits.</p><p style=\"font-size:10pt;font-family:times new roman;margin:0px\">  </p><table cellpadding=\"0\" style=\"border-spacing:0;font-size:10pt;text-align:left;width:100%\"><tbody><tr style=\"height:15px;background-color:#cceeff\"><td style=\"width:6%;\"><p style=\"font-size:10pt;font-family:times new roman;margin:0px\"><a href=\"bkti_ex31.htm\">3.1</a></p></td><td style=\"width:2%;\"><p style=\"font-size:10pt;font-family:times new roman;margin:0px\"> </p></td><td><p style=\"font-size:10pt;font-family:times new roman;margin:0px\"><a href=\"bkti_ex31.htm\">Certificate of Change Pursuant to Nevada Revised Statutes Section 78.209.</a></p></td></tr><tr style=\"height:15px;background-color:#ffffff\"><td><p style=\"font-size:10pt;font-family:times new roman;margin:0px\"> </p></td><td><p style=\"font-size:10pt;font-family:times new roman;margin:0px\"> </p></td><td><p style=\"font-size:10pt;font-family:times new roman;margin:0px\"> </p></td></tr><tr style=\"height:15px;background-color:#cceeff\"><td><p style=\"font-size:10pt;font-family:times new roman;margin:0px\"><a href=\"bkti_ex991.htm\">99.1</a></p></td><td><p style=\"font-size:10pt;font-family:times new roman;margin:0px\"> </p></td><td><p style=\"font-size:10pt;font-family:times new roman;margin:0px\"><a href=\"bkti_ex991.htm\">Press Release dated March 23, 2023.</a></p></td></tr></tbody></table><p style=\"font-size:10pt;font-family:times new roman;margin:0px\"> </p><table cellpadding=\"0\" style=\"border-spacing:0;font:10pt times new roman;width:100%\"><tbody><tr style=\"height:15px\"><td class=\"hpbhr\"> </td></tr><tr style=\"height:15px\"><td style=\"BORDER-BOTTOM: black 1px solid; TEXT-INDENT: 0px;\"><p style=\"FONT-SIZE: 10pt; FONT-FAMILY: times new roman; MARGIN: 0px; text-align:center;\">4</p></td></tr><tr style=\"height:15px\"><td><p style=\"page-break-after: always\"></p></td></tr><tr style=\"height:15px\"><td> </td></tr></tbody></table><p style=\"font-size:10pt;font-family:times new roman;margin:0px\"> </p><p style=\"FONT-SIZE: 10pt; FONT-FAMILY: times new roman; MARGIN: 0px; text-align:center;\"><strong>SIGNATURE</strong></p><p style=\"FONT-SIZE: 10pt; FONT-FAMILY: times new roman; MARGIN: 0px; text-align:left;\"> </p><p style=\"FONT-SIZE: 10pt; FONT-FAMILY: times new roman; MARGIN: 0px; TEXT-INDENT: 0.5in; text-align:left;\">Pursuant to the requirements of the Securities Exchange Act of 1934, the registrant has duly caused this report to be signed on its behalf by the undersigned hereunto duly authorized.</p><p style=\"FONT-SIZE: 10pt; FONT-FAMILY: times new roman; MARGIN: 0px; text-align:left;\"> </p><table cellpadding=\"0\" style=\"border-spacing:0;font:10pt times new roman;width:100%\"><tbody><tr style=\"height:15px\"><td> </td><td colspan=\"2\"><strong>BK TECHNOLOGIES CORPORATION</strong></td><td></td></tr><tr style=\"height:15px\"><td style=\"width:50%;\"> </td><td style=\"width:3%;\"> </td><td style=\"width:35%;\"> </td><td style=\"width:12%;\"> </td></tr><tr style=\"height:15px\"><td></td><td>By:</td><td style=\"BORDER-BOTTOM: black 1px solid;\">/s/ Scott A. Malmanger</td><td></td></tr><tr style=\"height:15px\"><td><p style=\"font-size:10pt;font-family:times new roman;margin:0px\"> </p></td><td><p style=\"font-size:10pt;font-family:times new roman;margin:0px\"> </p></td><td>Scott A. Malmanger </td><td> </td></tr><tr style=\"height:15px\"><td> </td><td> </td><td>Chief Financial Officer</td><td> </td></tr><tr style=\"height:15px\"><td> </td><td> </td><td> </td><td> </td></tr><tr style=\"height:15px\"><td><p style=\"font-size:10pt;font-family:times new roman;margin:0px\">Date: March 28, 2023  </p></td><td><p style=\"font-size:10pt;font-family:times new roman;margin:0px\"> </p></td><td><p style=\"font-size:10pt;font-family:times new roman;margin:0px\"> </p></td><td><p style=\"font-size:10pt;font-family:times new roman;margin:0px\"> </p></td></tr></tbody></table><p style=\"font-size:10pt;font-family:times new roman;margin:0px\"> </p><table cellpadding=\"0\" style=\"border-spacing:0;font:10pt times new roman;width:100%\"><tbody><tr style=\"height:15px\"><td class=\"hpbhr\"> </td></tr><tr style=\"height:15px\"><td style=\"BORDER-BOTTOM: black 1px solid; TEXT-INDENT: 0px;\"><p style=\"FONT-SIZE: 10pt; FONT-FAMILY: times new roman; MARGIN: 0px; text-align:center;\">5</p></td></tr></tbody></table><p style=\"font-size:10pt;font-family:times new roman;margin:0px\"> </p><noscript><img src=\"https://www.sec.gov/akam/13/pixel_1c7143f0?a=dD1jZjg4NWM2MGMwZDg1YTQxZDRiYTI1NDY2MjE2ZDg2N2NiMzJmNTQyJmpzPW9mZg==\" style=\"visibility: hidden; position: absolute; left: -999px; top: -999px;\"/></noscript></body></html>\n",
            "\n"
          ]
        },
        {
          "output_type": "error",
          "ename": "AttributeError",
          "evalue": "ignored",
          "traceback": [
            "\u001b[0;31m---------------------------------------------------------------------------\u001b[0m",
            "\u001b[0;31mAttributeError\u001b[0m                            Traceback (most recent call last)",
            "\u001b[0;32m<ipython-input-16-7fa43b071b97>\u001b[0m in \u001b[0;36m<cell line: 23>\u001b[0;34m()\u001b[0m\n\u001b[1;32m     21\u001b[0m \u001b[0;34m\u001b[0m\u001b[0m\n\u001b[1;32m     22\u001b[0m \u001b[0ms\u001b[0m \u001b[0;34m=\u001b[0m  \u001b[0msoup\u001b[0m\u001b[0;34m.\u001b[0m\u001b[0mfind\u001b[0m\u001b[0;34m(\u001b[0m\u001b[0;34m'span'\u001b[0m\u001b[0;34m,\u001b[0m \u001b[0mrecursive\u001b[0m\u001b[0;34m=\u001b[0m\u001b[0;32mTrue\u001b[0m\u001b[0;34m,\u001b[0m \u001b[0mstring\u001b[0m\u001b[0;34m=\u001b[0m\u001b[0;34m'SALES BY SEGMENT OF BUSINESS '\u001b[0m\u001b[0;34m)\u001b[0m\u001b[0;34m\u001b[0m\u001b[0;34m\u001b[0m\u001b[0m\n\u001b[0;32m---> 23\u001b[0;31m \u001b[0mt\u001b[0m \u001b[0;34m=\u001b[0m \u001b[0ms\u001b[0m\u001b[0;34m.\u001b[0m\u001b[0mfind_next\u001b[0m\u001b[0;34m(\u001b[0m\u001b[0;34m'table'\u001b[0m\u001b[0;34m)\u001b[0m\u001b[0;34m\u001b[0m\u001b[0;34m\u001b[0m\u001b[0m\n\u001b[0m\u001b[1;32m     24\u001b[0m \u001b[0mtrs\u001b[0m \u001b[0;34m=\u001b[0m \u001b[0mt\u001b[0m\u001b[0;34m.\u001b[0m\u001b[0mfind_all\u001b[0m\u001b[0;34m(\u001b[0m\u001b[0;34m'tr'\u001b[0m\u001b[0;34m)\u001b[0m\u001b[0;34m\u001b[0m\u001b[0;34m\u001b[0m\u001b[0m\n\u001b[1;32m     25\u001b[0m \u001b[0;32mfor\u001b[0m \u001b[0mtr\u001b[0m \u001b[0;32min\u001b[0m \u001b[0mtrs\u001b[0m\u001b[0;34m:\u001b[0m\u001b[0;34m\u001b[0m\u001b[0;34m\u001b[0m\u001b[0m\n",
            "\u001b[0;31mAttributeError\u001b[0m: 'NoneType' object has no attribute 'find_next'"
          ]
        }
      ]
    },
    {
      "cell_type": "code",
      "source": [
        "from google.colab import auth\n",
        "auth.authenticate_user()\n",
        "\n",
        "import gspread\n",
        "from google.auth import default\n",
        "creds, _ = default()\n",
        "\n",
        "gc = gspread.authorize(creds)\n",
        "\n",
        "#sh = gc.create('A new spreadsheet')\n",
        "\n",
        "# Open our new sheet and add some data.\n",
        "worksheet = gc.open('Stock Watch').sheet1\n",
        "\n",
        "cell_list = worksheet.range('A1:C2')\n",
        "\n",
        "import random\n",
        "for cell in cell_list:\n",
        "  cell.value = random.randint(1, 10)\n",
        "\n",
        "worksheet.update_cells(cell_list)\n",
        "# Go to https://sheets.google.com to see your new spreadsheet."
      ],
      "metadata": {
        "id": "tbBv6WTZfuSs"
      },
      "execution_count": null,
      "outputs": []
    }
  ]
}